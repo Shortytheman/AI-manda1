{
 "cells": [
  {
   "cell_type": "code",
   "execution_count": 1,
   "id": "785832c7-2bc9-4767-87f2-0753cde7684f",
   "metadata": {},
   "outputs": [],
   "source": [
    "import numpy as np\n",
    "import pandas as pd\n",
    "import matplotlib.pyplot as plt"
   ]
  },
  {
   "cell_type": "code",
   "execution_count": 2,
   "id": "2dd1395a-551e-4526-9213-6d8ec9b1448d",
   "metadata": {},
   "outputs": [],
   "source": [
    "df = pd.read_csv(\"cars.csv\")\n",
    "X = df.iloc[:,:-1].values #-- X-værdierne er vores input værdier. I dette tilfælde samles alle rækkerne pånær den sidste.\n",
    "y = df.iloc[:,-1].values #-- y-værdierne er vores output som vi senere kan få modellen til at \"forudse\". I dette tilfælde, den sidste række."
   ]
  },
  {
   "cell_type": "code",
   "execution_count": 3,
   "id": "db8445ee-3dd2-4d2b-9ea9-75ff13f02952",
   "metadata": {},
   "outputs": [],
   "source": [
    "def mpgToKpl(list):\n",
    "    for i in range (len(list)):\n",
    "        list[i][0] = round(list[i][0] * 0.425143707,2)"
   ]
  },
  {
   "cell_type": "code",
   "execution_count": 4,
   "id": "20907520-1fcd-4947-bc32-fe33db0100a0",
   "metadata": {
    "collapsed": true,
    "jupyter": {
     "outputs_hidden": true
    }
   },
   "outputs": [
    {
     "name": "stdout",
     "output_type": "stream",
     "text": [
      "      mpg  cylinders  displacement horsepower  weight  acceleration  \\\n",
      "0    18.0          8         307.0        130    3504          12.0   \n",
      "1    15.0          8         350.0        165    3693          11.5   \n",
      "2    18.0          8         318.0        150    3436          11.0   \n",
      "3    16.0          8         304.0        150    3433          12.0   \n",
      "4    17.0          8         302.0        140    3449          10.5   \n",
      "..    ...        ...           ...        ...     ...           ...   \n",
      "393  27.0          4         140.0         86    2790          15.6   \n",
      "394  44.0          4          97.0         52    2130          24.6   \n",
      "395  32.0          4         135.0         84    2295          11.6   \n",
      "396  28.0          4         120.0         79    2625          18.6   \n",
      "397  31.0          4         119.0         82    2720          19.4   \n",
      "\n",
      "     model year  origin                   car name  \n",
      "0            70       1  chevrolet chevelle malibu  \n",
      "1            70       1          buick skylark 320  \n",
      "2            70       1         plymouth satellite  \n",
      "3            70       1              amc rebel sst  \n",
      "4            70       1                ford torino  \n",
      "..          ...     ...                        ...  \n",
      "393          82       1            ford mustang gl  \n",
      "394          82       2                  vw pickup  \n",
      "395          82       1              dodge rampage  \n",
      "396          82       1                ford ranger  \n",
      "397          82       1                 chevy s-10  \n",
      "\n",
      "[398 rows x 9 columns]\n"
     ]
    }
   ],
   "source": [
    "print(df)"
   ]
  },
  {
   "cell_type": "code",
   "execution_count": 9,
   "id": "b6bd4063-0dad-4427-a93d-185d87736584",
   "metadata": {},
   "outputs": [
    {
     "name": "stdout",
     "output_type": "stream",
     "text": [
      "       kpl  cylinders  displacement horsepower  weight  acceleration  \\\n",
      "0     7.56          8         307.0        130    3504          12.0   \n",
      "1     6.30          8         350.0        165    3693          11.5   \n",
      "2     7.56          8         318.0        150    3436          11.0   \n",
      "3     6.72          8         304.0        150    3433          12.0   \n",
      "4     7.14          8         302.0        140    3449          10.5   \n",
      "..     ...        ...           ...        ...     ...           ...   \n",
      "393  11.34          4         140.0         86    2790          15.6   \n",
      "394  18.48          4          97.0         52    2130          24.6   \n",
      "395  13.44          4         135.0         84    2295          11.6   \n",
      "396  11.76          4         120.0         79    2625          18.6   \n",
      "397  13.02          4         119.0         82    2720          19.4   \n",
      "\n",
      "     model year  origin                   car name    klp    kpp  \n",
      "0            70       1  chevrolet chevelle malibu   7.56   7.56  \n",
      "1            70       1          buick skylark 320   6.30   6.30  \n",
      "2            70       1         plymouth satellite   7.56   7.56  \n",
      "3            70       1              amc rebel sst   6.72   6.72  \n",
      "4            70       1                ford torino   7.14   7.14  \n",
      "..          ...     ...                        ...    ...    ...  \n",
      "393          82       1            ford mustang gl  11.34  11.34  \n",
      "394          82       2                  vw pickup  18.48  18.48  \n",
      "395          82       1              dodge rampage  13.44  13.44  \n",
      "396          82       1                ford ranger  11.76  11.76  \n",
      "397          82       1                 chevy s-10  13.02  13.02  \n",
      "\n",
      "[398 rows x 11 columns]\n"
     ]
    }
   ],
   "source": [
    "mpgToKpl(X)\n",
    "df.rename(columns={'mpg': 'kpl'}, inplace=True)\n",
    "df['kpl'] = df['kpl'] * 0.42\n",
    "print(df)"
   ]
  },
  {
   "cell_type": "code",
   "execution_count": null,
   "id": "867aa748-77f4-49c8-8f7b-9c4874406c41",
   "metadata": {},
   "outputs": [],
   "source": []
  }
 ],
 "metadata": {
  "kernelspec": {
   "display_name": "Python 3 (ipykernel)",
   "language": "python",
   "name": "python3"
  },
  "language_info": {
   "codemirror_mode": {
    "name": "ipython",
    "version": 3
   },
   "file_extension": ".py",
   "mimetype": "text/x-python",
   "name": "python",
   "nbconvert_exporter": "python",
   "pygments_lexer": "ipython3",
   "version": "3.12.2"
  }
 },
 "nbformat": 4,
 "nbformat_minor": 5
}
